{
  "cells": [
    {
      "cell_type": "markdown",
      "metadata": {
        "id": "view-in-github",
        "colab_type": "text"
      },
      "source": [
        "<a href=\"https://colab.research.google.com/github/yagbre21/intro_to_ds/blob/hwo/cs109a_hw0.ipynb\" target=\"_parent\"><img src=\"https://colab.research.google.com/assets/colab-badge.svg\" alt=\"Open In Colab\"/></a>"
      ]
    },
    {
      "cell_type": "code",
      "execution_count": null,
      "id": "5ef516e1",
      "metadata": {
        "deletable": false,
        "editable": false,
        "id": "5ef516e1"
      },
      "outputs": [],
      "source": [
        "# Initialize Otter\n",
        "import otter\n",
        "grader = otter.Notebook(\"cs109a_hw0.ipynb\")"
      ]
    },
    {
      "cell_type": "code",
      "source": [
        "from google.colab import drive\n",
        "drive.mount('/content/drive')"
      ],
      "metadata": {
        "id": "tdFHXn2tmr5g"
      },
      "id": "tdFHXn2tmr5g",
      "execution_count": null,
      "outputs": []
    },
    {
      "cell_type": "markdown",
      "id": "e5939d1f-8f64-4aa8-8676-6dac532b57c1",
      "metadata": {
        "tags": [],
        "id": "e5939d1f-8f64-4aa8-8676-6dac532b57c1"
      },
      "source": [
        "# <img style=\"float: left; padding-right: 10px; width: 45px\" src=\"https://raw.githubusercontent.com/Harvard-IACS/2018-CS109A/master/content/styles/iacs.png\"> CS109A Introduction to Data Science\n",
        "\n",
        "## Homework 0\n",
        "\n",
        "**Harvard University**<br/>\n",
        "**Fall 2024**<br/>\n",
        "**Instructors**: Pavlos Protopapas \\& Natesh Pillai\n",
        "\n",
        "---"
      ]
    },
    {
      "cell_type": "markdown",
      "id": "28d04ff7-67fb-46a7-aecf-7a782ace43b7",
      "metadata": {
        "tags": [],
        "id": "28d04ff7-67fb-46a7-aecf-7a782ace43b7"
      },
      "source": [
        "## Welcome to CS109a!\n",
        "\n",
        "CS109A attracts students with diverse backgrounds, interests, and goals. As a result, students' experiences with the course prerequisites can be quite varied. Some students may, for example, have extensive coding experience, but perhaps can't remember how to represent a projection with linear algebra. Others may have a strong statistics background, but are less confident when it comes to Python.\n",
        "\n",
        "Homework 0 is a way to assess your comfort with the skills and concepts foundational to the course. It is not expected that you should be able to recall everything from memory while working through the assignment. What maters is the ability to use the context and resources available to fill in any gaps and work toward your goal. This is what we do 'in the real world' after all! However, if you do find HW0 to be too challenging, it is perhaps best to spend more time with the prerequiste material and register for CS109A the next time around.\n",
        "\n",
        "### [Table of contents](#top)\n",
        "- **1** [Setting the Stage](#part1)\n",
        "    - Why Python?\n",
        "    - The Shell & Terminal\n",
        "    - Virtual Environments & Package Managers\n",
        "    - Jupyter\n",
        "- **2** [Python Poetry Challenge](#part2)\n",
        "    - File I/O\n",
        "    - String Parsing\n",
        "    - Data Structures\n",
        "    - Functions\n",
        "    - Classes\n",
        "- **3** [Math and Statistics](#part3)\n",
        "    - Linear Algebra\n",
        "    - Partial Derivatives\n",
        "    - $\\LaTeX$\n",
        "    - Joint & Conditional Probability\n",
        "    - Random Variables & PDFs"
      ]
    },
    {
      "cell_type": "markdown",
      "id": "e2ee07fa-1f41-4ef1-8f4c-19c08a7564c8",
      "metadata": {
        "id": "e2ee07fa-1f41-4ef1-8f4c-19c08a7564c8"
      },
      "source": [
        "## HW0 User Guide\n",
        "\n",
        "HW0 is a large document, but there isn't much coding required to complete it.\n",
        "\n",
        "- If you already know how to create a virtual environment from the provided .yml file then you can jump right to part 2 (though you should read through part 1 eventually).\n",
        "- The Python content covered in part 2 will start being put to use as early as the first lab and HW assignment\n",
        "- The math topics in part 3 will begin to make an appearance by HW2\n",
        "\n",
        "**About the automatic tests:** The test cases embedded in the notebook are intended to keep students on the right track. Most are just checking things like the data type of certain variables you are asked to define. In the \"poetry challenge\" section there may be multiple ways to complete the prompts, so don't be discouraged if some tests are not passing for you. Passing all tests is not required for getting full credit on HW0. What is expected is that students make a good-faith attempt to complete all sections."
      ]
    },
    {
      "cell_type": "markdown",
      "id": "22aaeec5-537a-4c9c-a40a-b08d6f80a269",
      "metadata": {
        "tags": [],
        "id": "22aaeec5-537a-4c9c-a40a-b08d6f80a269"
      },
      "source": [
        "# Part 1: Setting the Stage <a id=\"part1\"></a>\n",
        "\n",
        "A data scientist's toolkit is a modular collection of various technologies. Taking the time to familiarize yourself with these different components and how they work together will help you be more effective and open new possibilities to you. Students will also be provided with computing environments they can connect to through their web browser that are sufficient for completing all course work. *But everyone is expected to be able to create similar environments on computer systems of their own.* This is an essential skill for any data scientist.\n",
        "\n",
        "Prerequisites for this section include:\n",
        "- Using a terminal application to run shell commands\n",
        "- Facility with the [filesystem](https://en.wikipedia.org/wiki/File_system): reading/writing files, navigating the file tree, etc.\n",
        "\n",
        "## Why Python?\n",
        "\n",
        "Our primary tool in this course is the Python programming language. It has a reputaion for having a clean, readable syntax, sometimes described as being \"like pseudocode you can run.\" Python is also distributed with a large [standard library](https://docs.python.org/3/library/index.html). This \"batteries included\" approach has made Python one of the most popular general purpose programming languages around today.\n",
        "\n",
        "As a result, the community of Python users is enormous with many contributing to open source projects. The Python Package Index ([PyPi](https://pypi.org/)) hosts over 465,000 different projects! And that's not all. There are also specialized repositories for scientific computing packages, such as [conda-forge](https://conda-forge.org/#page-top). And then there are all the other public projects hosted on Github, Gitlab, and elsewhere. Python gives us access to this software ecosystem.\n",
        "\n",
        "## The Shell & Terminal\n",
        "\n",
        "Most modern operating systems make use of Python, so you likely already have some version installed on your machine!\n",
        "\n",
        "You can check by querying your [**shell**](https://en.wikipedia.org/wiki/Shell_%28computing%29). The shell is a programming language that gives users access to the operating system's services. An interactive shell runs in a read, evaluate, print, and loop sequence ([REPL](https://en.wikipedia.org/wiki/Read%E2%80%93eval%E2%80%93print_loop)). These days, we interact with the shell through a [terminal emulator](https://en.wikipedia.org/wiki/Terminal_emulator), which we'll simply ([though not quite correctly](https://unix.stackexchange.com/questions/4126/what-is-the-exact-difference-between-a-terminal-a-shell-a-tty-and-a-con)) refer to as the **terminal**.\n",
        "\n",
        "The terminal is the program that grants you a text interface through which you can enter commands to the interactive shell.\n",
        "\n",
        ">**Note:** Windows user have [PowerShell](https://docs.microsoft.com/en-us/powershell/scripting/overview?view=powershell-7.2), but it lacks many useful commands. This may work for most parts of the course, but please consider trying out [Git Bash](https://gitforwindows.org/), or better still, [Windows Subsystem for Linux](https://learn.microsoft.com/en-us/windows/wsl/about) (WSL) for a true [UNIX shell](https://en.wikipedia.org/wiki/Unix_shell) experience!\n",
        "\n",
        "### Checking for Python on Your System\n",
        "\n",
        "Let's put a (UNIX) shell command to use. PowerShell users should try the similar [Get-Command](https://www.delftstack.com/howto/powershell/equivalent-of-which-command-in-powershell/).\n",
        "\n",
        "The `which` command returns the path names of the files (or [links](https://en.wikipedia.org/wiki/Symbolic_link)) which would be executed in the current [environment](https://www.tutorialspoint.com/unix/unix-environment.htm), had its arguments been given as commands in the shell. It does  this by searching the [PATH](https://en.wikipedia.org/wiki/PATH_(variable)) environmental variable for executable files matching the names of the arguments.\n",
        "\n",
        "```sh\n",
        "which python\n",
        "```\n",
        "\n",
        "You'll be shown a path like `/usr/bin/python`.\n",
        "\n",
        "If it was found, you can envoke `python` and ask for its version.\n",
        "\n",
        "```shell\n",
        "python --version\n",
        "```\n",
        "\n",
        ">💡 You can also run shell commands from within a Jupyter notebook by prepending a `!`"
      ]
    },
    {
      "cell_type": "code",
      "execution_count": null,
      "id": "13617634-66bb-4643-ba9a-983a26e73a3d",
      "metadata": {
        "id": "13617634-66bb-4643-ba9a-983a26e73a3d"
      },
      "outputs": [],
      "source": [
        "# !command sends `command` to the shell that launched Jupyter\n",
        "!python --version"
      ]
    },
    {
      "cell_type": "markdown",
      "id": "07d1f543-799f-405a-b0c1-b7333c0c19f6",
      "metadata": {
        "tags": [],
        "id": "07d1f543-799f-405a-b0c1-b7333c0c19f6"
      },
      "source": [
        "You should see some version >= 3.10\n",
        "\n",
        ">**Note:** If your call to `which` threw an error saying it couldn't find `python`, or if your version is < 3.8, then you're going to need to install Python. Don't worry. The installation steps in the next section will take care of this.\n",
        "\n",
        "Now you can use Python's *own* interactive shell, or \"[REPL](https://pythonprogramminglanguage.com/repl/),\" in the terminal by envoking `python`.\n",
        "You'll have access to modules from the standard Python library like `datetime`, `math`, `collections`, `itertools`, `re`, etc. But we'd also like to install 3rd party packages.\n",
        "\n",
        "⚠️ However, we need to take care in *how* we install packages because:\n",
        "1. Some of your coding projects will require conflicting versions of the same package that can't coexist.\n",
        "2. If your operating system makes use of Python, altering the system installation could have unintended consequences.\n",
        "3. We can't hope to make our results reproducible without documenting the specific software versions that produced them.\n",
        "\n",
        "What we need is some way to easily create and manage multiple isolated Python installations, each with their own set of package dependencies."
      ]
    },
    {
      "cell_type": "markdown",
      "id": "a6f696e6-f49c-4cd1-b3f6-3d4f3a95f4bc",
      "metadata": {
        "jp-MarkdownHeadingCollapsed": true,
        "tags": [],
        "id": "a6f696e6-f49c-4cd1-b3f6-3d4f3a95f4bc"
      },
      "source": [
        "## Virtual Environments & Package Managers\n",
        "\n",
        "![Keep your Python's isolated from one another!](img/python_island_dalle2.png \"Python Island by MINIDALL-E 2\")\n",
        "\n",
        "A [virtual environment](https://docs.python.org/3/library/venv.html#venv-def) is a self-contained directory tree that contains a Python installation for a particular version of Python, plus a number of additional packages. Just what we're looking for!\n",
        "\n",
        "Most Python distributions will include:\n",
        "* [venv](https://docs.python.org/3/library/venv.html#module-venv) - to create and manage virtual environments\n",
        "* [pip](https://docs.python.org/3/installing/index.html#installing-index) - to download and manage 3rd party packages (from PyPi by default)\n",
        "\n",
        "For more information on these tools, you can read the Python tutorial entry on [virtual environments & packages](https://docs.python.org/3/tutorial/venv.html?highlight=pip)\n",
        "\n",
        "But we can generalize this idea of a Python virtual environment to *all languages*. This is useful because our data science projects may have dependencies outside of Python itself.\n",
        "\n",
        "### Conda - Language Agnostic Environments\n",
        "\n",
        "[**Conda**](https://conda.io/en/latest/index.html) provides cross-platform package, dependency, and environment management for any language—Python, R, Ruby, Lua, Scala, Java, JavaScript, C/ C++, etc.\n",
        "\n",
        "You *could* get conda by installing [Anaconda](https://www.anaconda.com/), a Python distribution that includes conda and many other packages, but it is very large any many of the packages you likely won't use. A better option might be [miniconda](https://docs.conda.io/en/latest/miniconda.html), a more minimal distribution that includes Python, pip, conda, and a few other useful packages.\n",
        "\n",
        "**But conda can be slow...** 🐢\n",
        "\n",
        "Conda is written in Python and its [dependency resolution](https://www.activestate.com/resources/quick-reads/python-dependencies-everything-you-need-to-know/) method can be rather slow. The [Mamba](https://mamba.readthedocs.io/en/latest/index.html) project is a reimplementation of the conda package manager in C++. It resolves dependencies much faster, makes use of multi-threading for parallel package downloading, and uses an almost identical command syntax to conda, so switching over if you're used to conda should be easy.\n",
        "\n",
        "For these reasons *we recommend using some version of **mamba** over conda*. And the easiest way to get mamba on your system is through `micromamba`.\n",
        "\n",
        "### Micromamba - Package & Environment Manager Installation\n",
        "\n",
        "Micromamba is a single executable we can use to bootstrap conda environments on Linux, macOS, or Windows. It will even install the desired version of Python for your environment. Consult the [documentation](https://mamba.readthedocs.io/en/latest/installation/micromamba-installation.html) for up-to-date installation instructions on your OS.\n",
        "\n",
        "In the final step of the installation, micromamba will alter your shell's configuration file so that that both the `micromamba` executable and the directory used to store your virtual environments are added to your PATH.\n",
        "\n",
        "We're now ready to create an environment for CS109A!\n",
        "\n",
        "#### Creating an Environment\n",
        "\n",
        "\n",
        "We've provided a `cs109a.yml` file that lists the packages we'll be using in the course. It should be in the same directory as this notebook.\\\n",
        "Go ahead and take a peek! it's just a plain text file. [YMAL](https://yaml.org/) (sometimes abrevieated 'YML') is a \"human-friendly\" [data serialization](https://docs.python-guide.org/scenarios/serialization/) language commonly used in configuration files with a minimal syntax.\n",
        "\n",
        "We can instruct micromamba to create a new environment from our yml specification:\n",
        "\n",
        "``` sh\n",
        "micromamba create -f cs109a.yml\n",
        "```\n",
        "\n",
        "#### Activating an Environment\n",
        "\n",
        "Once all the packages have been installed, we can activate our new environment:\n",
        "\n",
        "```sh\n",
        "micromamba activate cs109a\n",
        "```\n",
        "\n",
        "You'll see your shell prompt now shows your active environment. You can use `deactivate` to turn it off."
      ]
    },
    {
      "cell_type": "markdown",
      "id": "29d47e1e-aa8f-4982-8a07-14d5d845aecf",
      "metadata": {
        "tags": [],
        "id": "29d47e1e-aa8f-4982-8a07-14d5d845aecf"
      },
      "source": [
        "## Jupyter\n",
        "\n",
        "Much of the course material, lecture supplementals, labs, exercises, assignments, etc., will be in the form of [Jupyter Notebooks](https://jupyter.org/). They allow for the embedding of runnable code in a document of formatted text. For more about this general approach, take a look at the [literate programming](https://en.wikipedia.org/wiki/Literate_programming) paradigm.\n",
        "\n",
        "If you created your environment with the CS109A yml file above, you will already have the Jupyter Lab package installed. To explore the Jupyter Lab interface, you can look at their [tutorial](https://jupyter.org/try-jupyter/lab/) & [documentation](https://jupyterlab.readthedocs.io/en/stable/user/interface.html).\n",
        "\n",
        "You can launch Jupyter from your terminal with:\n",
        "```sh\n",
        "jupyter lab\n",
        "```\n",
        "The output in the terminal will display an address you can paste into your browser to access the now running Jupyter Lab server, but it should open in your default broswer automatically.\n",
        "\n",
        ">💡 You can edit your shell's config file to make interacting with these tools more comfy. A few ideas:\n",
        ">- alias mm=\"micromamba\" # shorten micromamba command\n",
        ">- alias 109=\"micromamba activate cs109a\" # fast activate\n",
        ">- 109 # activate cs109a environment for every new terminal (requires previous alias)\n",
        ">- alias jl=\"jupyter lab\" # fast lab"
      ]
    },
    {
      "cell_type": "markdown",
      "id": "3eff8422-3fdd-4984-abba-84a67266c868",
      "metadata": {
        "deletable": false,
        "editable": false,
        "tags": [],
        "id": "3eff8422-3fdd-4984-abba-84a67266c868"
      },
      "source": [
        "<div class='exercise'> <b>Q1 - Check your installation </b></div>"
      ]
    },
    {
      "cell_type": "markdown",
      "id": "6bff149b-8619-4b41-ac91-c8580e5a85f5",
      "metadata": {
        "deletable": false,
        "editable": false,
        "id": "6bff149b-8619-4b41-ac91-c8580e5a85f5"
      },
      "source": [
        "Assume this Jupyer notebook was launch from inside your new cs109a environment, you should now have access to all the packages listed in the cs109a.yml file."
      ]
    },
    {
      "cell_type": "code",
      "execution_count": null,
      "id": "2b7951a1-bc58-44eb-8c19-b0b7371594f8",
      "metadata": {
        "deletable": false,
        "editable": false,
        "tags": [],
        "id": "2b7951a1-bc58-44eb-8c19-b0b7371594f8"
      },
      "outputs": [],
      "source": [
        "# See the \"import ... as ...\" contructs below:\n",
        "# they're aliases/shortcuts for the package names. As a result,\n",
        "# we can call methods such as plt.plot() instead of matplotlib.pyplot.plot()\n",
        "import numpy as np\n",
        "from scipy import stats\n",
        "import pandas as pd\n",
        "import matplotlib.pyplot as plt"
      ]
    },
    {
      "cell_type": "code",
      "execution_count": null,
      "id": "1e90016a",
      "metadata": {
        "deletable": false,
        "editable": false,
        "id": "1e90016a"
      },
      "outputs": [],
      "source": [
        "grader.check(\"q1\")"
      ]
    },
    {
      "cell_type": "markdown",
      "id": "84baa7f1-2202-4d8f-bdef-89f86127c467",
      "metadata": {
        "tags": [],
        "id": "84baa7f1-2202-4d8f-bdef-89f86127c467"
      },
      "source": [
        "# Part 2: Python Poetry Challenge<a id=\"part2\"></a>\n",
        "\n",
        "CS109A assumes students are already familiar with the basics of Python programming.\n",
        "\n",
        "To assess your level of Python preparedness, you'll be creating a **random poem generator** from a collection of [Emily Dickinson](https://en.wikipedia.org/wiki/Emily_Dickinson) poems made available through [Project Gutemberg](https://www.gutenberg.org/).\n",
        "\n",
        "Core Python skills utilized in completing this challenge include:\n",
        "\n",
        "* File I/O\n",
        "* Data structures\n",
        "  - strings\n",
        "  - lists & slicing\n",
        "  - dictionaries\n",
        "* Logical operators\n",
        "* Iteration\n",
        "* Functions\n",
        "* Classes\n",
        "* Debugging\n",
        "* Reading documentation\n",
        "* Interpretting code"
      ]
    },
    {
      "cell_type": "markdown",
      "id": "1d50bf4a-9866-4fd0-8e4b-66224043d907",
      "metadata": {
        "deletable": false,
        "editable": false,
        "id": "1d50bf4a-9866-4fd0-8e4b-66224043d907"
      },
      "source": [
        "<div class='exercise'><b>Q2.1 - Read in the file</b></div>"
      ]
    },
    {
      "cell_type": "markdown",
      "id": "10d00a34-12bd-41d5-afa3-b84a4430eb4b",
      "metadata": {
        "deletable": false,
        "editable": false,
        "id": "10d00a34-12bd-41d5-afa3-b84a4430eb4b"
      },
      "source": [
        "The document we'll be working with is a digital transcription assembling [three early Emily Dickinson poetry collections](https://www.gutenberg.org/ebooks/12242) for which the U.S. copyright has expired.\n",
        "\n",
        "We've included this document with HW0 as a plain text file. The filename is`pg12242.txt` and it's located in the `data` subdirectory.\n",
        "\n",
        "Read the contents of `pg12242.txt` into a variabled named `text`. The arcane file name is a stipulation of [The Project Gutenberg License](https://gutenberg.org/policy/license.html) included in the file.\n",
        "\n",
        "Take the contents of the file and save the substring containing the first 10,000 characters as the variable `head` and the substring containing the final 25,000 characters as `tail`."
      ]
    },
    {
      "cell_type": "code",
      "execution_count": null,
      "id": "b17a6b04-65d4-4fc1-aaa5-7554300593da",
      "metadata": {
        "scrolled": true,
        "tags": [],
        "id": "b17a6b04-65d4-4fc1-aaa5-7554300593da"
      },
      "outputs": [],
      "source": [
        "...\n",
        "    text = ...\n",
        "\n",
        "head = ...\n",
        "tail = ..."
      ]
    },
    {
      "cell_type": "code",
      "execution_count": null,
      "id": "ba5131d8-158b-4655-85da-cc908002898d",
      "metadata": {
        "deletable": false,
        "editable": false,
        "scrolled": true,
        "tags": [],
        "id": "ba5131d8-158b-4655-85da-cc908002898d"
      },
      "outputs": [],
      "source": [
        "# We can inspect the beginning of the content\n",
        "print(head)"
      ]
    },
    {
      "cell_type": "code",
      "execution_count": null,
      "id": "489b9141-334b-4e0b-a558-91a9abaf2218",
      "metadata": {
        "deletable": false,
        "editable": false,
        "scrolled": true,
        "tags": [],
        "id": "489b9141-334b-4e0b-a558-91a9abaf2218"
      },
      "outputs": [],
      "source": [
        "# final 25,000 characters\n",
        "print(tail)"
      ]
    },
    {
      "cell_type": "code",
      "execution_count": null,
      "id": "d7bea0f4-025b-4734-8fce-91bb5f5f5ece",
      "metadata": {
        "deletable": false,
        "editable": false,
        "scrolled": true,
        "tags": [],
        "id": "d7bea0f4-025b-4734-8fce-91bb5f5f5ece"
      },
      "outputs": [],
      "source": [
        "# entire contents\n",
        "print(text)"
      ]
    },
    {
      "cell_type": "code",
      "execution_count": null,
      "id": "c17b5087",
      "metadata": {
        "deletable": false,
        "editable": false,
        "id": "c17b5087"
      },
      "outputs": [],
      "source": [
        "grader.check(\"q2.1\")"
      ]
    },
    {
      "cell_type": "markdown",
      "id": "fdcb698b-632c-40a7-a825-8cc10c452c0a",
      "metadata": {
        "deletable": false,
        "editable": false,
        "id": "fdcb698b-632c-40a7-a825-8cc10c452c0a"
      },
      "source": [
        "<div class='exercise'><b>Q2.2 - Remove non-poem content</b></div>"
      ]
    },
    {
      "cell_type": "markdown",
      "id": "772ed644-0a46-45e9-be77-728b77becc9a",
      "metadata": {
        "deletable": false,
        "editable": false,
        "id": "772ed644-0a46-45e9-be77-728b77becc9a"
      },
      "source": [
        "Keeping in mind that this is a compilation of three publications (or 'series') and inspecting the `head` and `tail` sections of the text we printed above, we can identify some useful structure in the document:  \n",
        "\n",
        "- Project Gutenberg: Header - Metadata\n",
        "- Series 1: Preface\n",
        "- **Series 1: Poems**\n",
        "- Series 2: Preface\n",
        "- **Series 2: Poems**\n",
        "- Series 3: Preface\n",
        "- **Series 3: Poems**\n",
        "- Project Gutenberg: Footer - License\n",
        "\n",
        "Recognizing and making use of structure is a large part of data science.\n",
        "\n",
        "Create three variables, `series1`, `series2`, and `series3`, each consiting of one of the 3 sections of `text` dedicated to the poem content, *exluding* prefaces and the Project Gutenberg metadata and license. Be sure to [strip](https://docs.python.org/3/library/stdtypes.html?highlight=strip#str.strip) any trailing or leading whitespace from the final strings.\n",
        "\n",
        ">**Hints:**\n",
        ">- Each preface section begins with `POEMS\\n`\n",
        ">- Each poem section after a preface starts with a numbered subsection beginning with `I.`\n",
        ">- The Project Gutenberg License section begins with `End of Project Gutenberg`\n",
        ">- You may import standard library modules such as [re](https://docs.python.org/3/library/re.html) to help here, but this task can also be done using only Python built-ins with no additional imports.\n",
        ">- Review [indexing and slicing](https://codesolid.com/python-indexing-slicing-exercises/) if needed\n",
        ">- The string `.index()` method returns the index of the first occurance of a target string in a source string."
      ]
    },
    {
      "cell_type": "code",
      "execution_count": null,
      "id": "9b2d0ab9-6aa0-4197-aee5-631d30b396a5",
      "metadata": {
        "tags": [],
        "id": "9b2d0ab9-6aa0-4197-aee5-631d30b396a5"
      },
      "outputs": [],
      "source": [
        "series1 = ...\n",
        "series2 = ...\n",
        "series3 = ..."
      ]
    },
    {
      "cell_type": "code",
      "execution_count": null,
      "id": "e620ee23",
      "metadata": {
        "deletable": false,
        "editable": false,
        "id": "e620ee23"
      },
      "outputs": [],
      "source": [
        "grader.check(\"q2.2\")"
      ]
    },
    {
      "cell_type": "markdown",
      "id": "4d14070b-b236-4cc2-9f4a-869fe4c8b4f8",
      "metadata": {
        "id": "4d14070b-b236-4cc2-9f4a-869fe4c8b4f8"
      },
      "source": [
        "We will then join the three series into a single string using `join`. For the delimiter we use six newline characters. The reason for this choice will soon become clear."
      ]
    },
    {
      "cell_type": "code",
      "execution_count": null,
      "id": "fbb35b40-4d7a-4776-a706-383a762a7b86",
      "metadata": {
        "id": "fbb35b40-4d7a-4776-a706-383a762a7b86"
      },
      "outputs": [],
      "source": [
        "# join series into single string connected by \"\\n\\n\\n\\n\\n\\n\"\n",
        "poems_text = ('\\n'*6).join([series1.strip(),\n",
        "                            series2.strip(),\n",
        "                            series3.strip()])"
      ]
    },
    {
      "cell_type": "markdown",
      "id": "467afb41-5e1f-49a1-af13-1e8a54c6715f",
      "metadata": {
        "id": "467afb41-5e1f-49a1-af13-1e8a54c6715f"
      },
      "source": [
        "And we can check to see that we only have the poem content."
      ]
    },
    {
      "cell_type": "code",
      "execution_count": null,
      "id": "aac8a8d7-3a7e-4c8a-bd7e-9eecbc81b98b",
      "metadata": {
        "scrolled": true,
        "tags": [],
        "id": "aac8a8d7-3a7e-4c8a-bd7e-9eecbc81b98b"
      },
      "outputs": [],
      "source": [
        "print(poems_text[:445])\n",
        "print('\\n---\\n')\n",
        "print(poems_text[-275:])"
      ]
    },
    {
      "cell_type": "markdown",
      "id": "5c82293f-0f37-42fa-ba03-b8775611f764",
      "metadata": {
        "deletable": false,
        "editable": false,
        "id": "5c82293f-0f37-42fa-ba03-b8775611f764"
      },
      "source": [
        "<div class='exercise'><b>Q2.3 - Remove annotation</b></div>"
      ]
    },
    {
      "cell_type": "markdown",
      "id": "a42d1f5f-950d-45d4-a783-3ae37b844995",
      "metadata": {
        "deletable": false,
        "editable": false,
        "id": "a42d1f5f-950d-45d4-a783-3ae37b844995"
      },
      "source": [
        "The first poem contains some editor annotation in square brackets."
      ]
    },
    {
      "cell_type": "code",
      "execution_count": null,
      "id": "fcbf8273-44f9-4a6c-b908-4964155a89a6",
      "metadata": {
        "deletable": false,
        "editable": false,
        "id": "fcbf8273-44f9-4a6c-b908-4964155a89a6"
      },
      "outputs": [],
      "source": [
        "print(poems_text[:200], '...')"
      ]
    },
    {
      "cell_type": "markdown",
      "id": "1d40486f-f6ad-4713-8d47-8e3498ba5be0",
      "metadata": {
        "deletable": false,
        "editable": false,
        "id": "1d40486f-f6ad-4713-8d47-8e3498ba5be0"
      },
      "source": [
        "This is the only annotation like this in the text. You can see that these are the only two square brackets that appear in the string."
      ]
    },
    {
      "cell_type": "code",
      "execution_count": null,
      "id": "5edfca7d-2a08-41f7-9f03-dc7fe5ab5928",
      "metadata": {
        "deletable": false,
        "editable": false,
        "id": "5edfca7d-2a08-41f7-9f03-dc7fe5ab5928"
      },
      "outputs": [],
      "source": [
        "# Confirm that brackets occur only once\n",
        "assert (poems_text.count(\"[\") == 1) and (poems_text.count(\"]\") == 1)"
      ]
    },
    {
      "cell_type": "markdown",
      "id": "a5dabd66-8e8f-4a04-970f-606944c7f256",
      "metadata": {
        "deletable": false,
        "editable": false,
        "id": "a5dabd66-8e8f-4a04-970f-606944c7f256"
      },
      "source": [
        "Create `poems_text_clean` which has this annotation (and the additional blank line below it) removed.\n",
        "\n",
        "**Hints:** The string method [`split`](https://docs.python.org/3/library/stdtypes.html?highlight=split#str.split) could be put to use here\n",
        "\n"
      ]
    },
    {
      "cell_type": "code",
      "execution_count": null,
      "id": "bf4e0271-64f0-4f73-8275-18a27ed2d139",
      "metadata": {
        "tags": [],
        "id": "bf4e0271-64f0-4f73-8275-18a27ed2d139"
      },
      "outputs": [],
      "source": [
        "poems_text_clean = ..."
      ]
    },
    {
      "cell_type": "code",
      "execution_count": null,
      "id": "9712d84a-4493-429e-8504-1821ac7389ed",
      "metadata": {
        "deletable": false,
        "editable": false,
        "id": "9712d84a-4493-429e-8504-1821ac7389ed"
      },
      "outputs": [],
      "source": [
        "print(poems_text_clean[:100], '...')"
      ]
    },
    {
      "cell_type": "code",
      "execution_count": null,
      "id": "037f1f67",
      "metadata": {
        "deletable": false,
        "editable": false,
        "id": "037f1f67"
      },
      "outputs": [],
      "source": [
        "grader.check(\"q2.3\")"
      ]
    },
    {
      "cell_type": "markdown",
      "id": "a7fa91d1-eb0e-4ed5-aa84-b54e3af58dd1",
      "metadata": {
        "deletable": false,
        "editable": false,
        "id": "a7fa91d1-eb0e-4ed5-aa84-b54e3af58dd1"
      },
      "source": [
        "<div class='exercise'><b>Q2.4 - Identify sections and numbering</b></div>"
      ]
    },
    {
      "cell_type": "markdown",
      "id": "86b919b2-818a-43f9-ba47-4d800e1c2f07",
      "metadata": {
        "deletable": false,
        "editable": false,
        "id": "86b919b2-818a-43f9-ba47-4d800e1c2f07"
      },
      "source": [
        "Now let's remove some of the other content that was *not* the work of the original author: the section titles and poem numbers. It is helpful to notice that all such lines begin with [roman numerals](https://en.wikipedia.org/wiki/Roman_numerals)."
      ]
    },
    {
      "cell_type": "markdown",
      "id": "d890ac99-0977-4931-8507-a09a2b278869",
      "metadata": {
        "deletable": false,
        "editable": false,
        "id": "d890ac99-0977-4931-8507-a09a2b278869"
      },
      "source": [
        "Implement the `startswith_rn` function which we can use to identify lines that serve as section titles or poem numbering.\n",
        "\n",
        ">**Note:** The function does not need to be sophisticated enough to reject 'invalid' roman numerals such as 'IIIV.' We are assuming (correctly) that these sorts of strings do not occur and so the function only needs to be powerful enough to recognize those numerals that do occur at the start of headers in the text while excluding the titles and the content of any of the poems."
      ]
    },
    {
      "cell_type": "code",
      "execution_count": null,
      "id": "5015bd90-7615-4140-8c36-87fe0d52c28e",
      "metadata": {
        "tags": [],
        "id": "5015bd90-7615-4140-8c36-87fe0d52c28e"
      },
      "outputs": [],
      "source": [
        "def startswith_rn(s: str) -> bool:\n",
        "    '''\n",
        "    Returns: True if `s` starts with a roman numeral and False otherwise\n",
        "    Ex:\n",
        "        startswith_rn(\"III. NATURE.\") -> True\n",
        "        startswith_rn(\"I'm nobody! Who are you?\") -> False\n",
        "    '''\n",
        "    ..."
      ]
    },
    {
      "cell_type": "code",
      "execution_count": null,
      "id": "34da526d",
      "metadata": {
        "deletable": false,
        "editable": false,
        "id": "34da526d"
      },
      "outputs": [],
      "source": [
        "grader.check(\"q2.4\")"
      ]
    },
    {
      "cell_type": "markdown",
      "id": "48ab2299-4f05-4fc6-b8de-85d4dd77c68e",
      "metadata": {
        "deletable": false,
        "editable": false,
        "id": "48ab2299-4f05-4fc6-b8de-85d4dd77c68e"
      },
      "source": [
        "<div class='exercise'><b>Q2.5 - Remove sections and numbering</b></div>"
      ]
    },
    {
      "cell_type": "markdown",
      "id": "0deac1b5-bc10-4489-a8cc-ef7567a1bacc",
      "metadata": {
        "deletable": false,
        "editable": false,
        "id": "0deac1b5-bc10-4489-a8cc-ef7567a1bacc"
      },
      "source": [
        "Use your new `startswith_rn` function to help you remove the lines starting with roman numerals from `poems_text_clean`. Strip any whitespace from the ends of the final result and store the string in the variable `poems_text_nonum`"
      ]
    },
    {
      "cell_type": "code",
      "execution_count": null,
      "id": "e3d89272-19d2-4ce1-8136-52f430d0840b",
      "metadata": {
        "tags": [],
        "id": "e3d89272-19d2-4ce1-8136-52f430d0840b"
      },
      "outputs": [],
      "source": [
        "poems_text_nonum = ..."
      ]
    },
    {
      "cell_type": "code",
      "execution_count": null,
      "id": "ddfab500-5f03-4fb6-939f-6b8cf28be575",
      "metadata": {
        "deletable": false,
        "editable": false,
        "id": "ddfab500-5f03-4fb6-939f-6b8cf28be575"
      },
      "outputs": [],
      "source": [
        "print(poems_text_nonum[:500])"
      ]
    },
    {
      "cell_type": "code",
      "execution_count": null,
      "id": "4e58ea4d",
      "metadata": {
        "deletable": false,
        "editable": false,
        "id": "4e58ea4d"
      },
      "outputs": [],
      "source": [
        "grader.check(\"q2.5\")"
      ]
    },
    {
      "cell_type": "markdown",
      "id": "d8d5ae31-fcf4-4696-9dfa-837be403305b",
      "metadata": {
        "deletable": false,
        "editable": false,
        "id": "d8d5ae31-fcf4-4696-9dfa-837be403305b"
      },
      "source": [
        "<div class='exercise'><b>Q2.6 - Create a list of poems</b></div>"
      ]
    },
    {
      "cell_type": "markdown",
      "id": "49ceb30e-83d5-4be0-a0d3-723db0535047",
      "metadata": {
        "deletable": false,
        "editable": false,
        "id": "49ceb30e-83d5-4be0-a0d3-723db0535047"
      },
      "source": [
        "Next, we'd like to split the text up into a list of poems."
      ]
    },
    {
      "cell_type": "markdown",
      "id": "8bd2f88b-725b-4f03-8de6-fcd17ebc6065",
      "metadata": {
        "deletable": false,
        "editable": false,
        "id": "8bd2f88b-725b-4f03-8de6-fcd17ebc6065"
      },
      "source": [
        "To investigate how we might do this it is important to view all the charcters in the text. The `pprint` function from the standard library allows us to display the text with the newline characters `\\n` while also making the output easier to read by including the line breaks as well."
      ]
    },
    {
      "cell_type": "code",
      "execution_count": null,
      "id": "49e00fb3-cdf4-4b3c-a75d-c0f774519a9f",
      "metadata": {
        "deletable": false,
        "editable": false,
        "id": "49e00fb3-cdf4-4b3c-a75d-c0f774519a9f"
      },
      "outputs": [],
      "source": [
        "from pprint import pprint"
      ]
    },
    {
      "cell_type": "code",
      "execution_count": null,
      "id": "bc63b9aa-6e7b-410b-95a9-10f1b15f28b6",
      "metadata": {
        "deletable": false,
        "editable": false,
        "scrolled": true,
        "tags": [],
        "id": "bc63b9aa-6e7b-410b-95a9-10f1b15f28b6"
      },
      "outputs": [],
      "source": [
        "pprint(poems_text_nonum[:2000])"
      ]
    },
    {
      "cell_type": "markdown",
      "id": "14d619be-dca2-4a6b-9ace-8a9a12829010",
      "metadata": {
        "deletable": false,
        "editable": false,
        "id": "14d619be-dca2-4a6b-9ace-8a9a12829010"
      },
      "source": [
        "Notice how the poems are separated by multiple newline characters. Further exploration shows the minimum number of newlines between poems to be *6*.\n",
        "\n",
        "Use this information to create `poem_list` where the elements of the list are the poems in the order they occur in `poems_text_nonum`. For now, we will include the title if the editors provided one as part of the poem. Each poem should be stripped of leading and trailing whitespace.\n",
        "\n",
        ">**Hint:** Be sure to exclude any empty strings elements from your final `poem_list`."
      ]
    },
    {
      "cell_type": "code",
      "execution_count": null,
      "id": "01417179-343a-4f98-8c1c-51110df89568",
      "metadata": {
        "scrolled": true,
        "tags": [],
        "id": "01417179-343a-4f98-8c1c-51110df89568"
      },
      "outputs": [],
      "source": [
        "poem_list = ..."
      ]
    },
    {
      "cell_type": "code",
      "execution_count": null,
      "id": "0f52dc57-c61a-43ad-acbb-94cec4828c09",
      "metadata": {
        "deletable": false,
        "editable": false,
        "scrolled": true,
        "tags": [],
        "id": "0f52dc57-c61a-43ad-acbb-94cec4828c09"
      },
      "outputs": [],
      "source": [
        "print(poem_list[109])"
      ]
    },
    {
      "cell_type": "code",
      "execution_count": null,
      "id": "8fc092d7-ef4d-4ad7-8b68-366a1747ab2c",
      "metadata": {
        "deletable": false,
        "editable": false,
        "id": "8fc092d7-ef4d-4ad7-8b68-366a1747ab2c"
      },
      "outputs": [],
      "source": [
        "print(f\"There are a total of {len(poem_list)} poems.\")"
      ]
    },
    {
      "cell_type": "code",
      "execution_count": null,
      "id": "536bc043",
      "metadata": {
        "deletable": false,
        "editable": false,
        "id": "536bc043"
      },
      "outputs": [],
      "source": [
        "grader.check(\"q2.6\")"
      ]
    },
    {
      "cell_type": "markdown",
      "id": "f5b88479-1703-4edb-a265-b06b6dd685dd",
      "metadata": {
        "deletable": false,
        "editable": false,
        "id": "f5b88479-1703-4edb-a265-b06b6dd685dd"
      },
      "source": [
        "<div class='exercise'><b>Q2.7 - Create a poem dictionary</b></div>"
      ]
    },
    {
      "cell_type": "markdown",
      "id": "8f462575-a019-410d-9b44-4a3dff94a45f",
      "metadata": {
        "deletable": false,
        "editable": false,
        "id": "8f462575-a019-410d-9b44-4a3dff94a45f"
      },
      "source": [
        "We now have all the poems separated, but we might want some means of accessing specific poems without having to remember their arbitrary position in the list. This is where the key-value pair structure of dictionaries will help.\n",
        "\n",
        "We will create a dictionary, `d`, where the keys are the poem titles and the values are the poems themselves.\n",
        "\n",
        "If the editors did not provide a title, we'll use the first line of the poem as the key.\n",
        "\n",
        "Recall that some poems were given identical titles. And we know dictionary keys must be unique. Our approach will be to use incrementing numerical labels to denote poems with duplicate names beyond the first encountered. The titles should then look like: \"ETERNITY.\", \"ETERNITY. (2)\", \"ETERNITY. (3)\", etc.\n",
        "\n",
        "We have provided one possible implementation that is nearly complete. Only one line needs to be filled in.\n",
        "\n",
        "You are also welcome to create your own solution from scratch."
      ]
    },
    {
      "cell_type": "code",
      "execution_count": null,
      "id": "763542bd-e71f-4919-8691-5ed7a1e7d3c7",
      "metadata": {
        "tags": [],
        "id": "763542bd-e71f-4919-8691-5ed7a1e7d3c7"
      },
      "outputs": [],
      "source": [
        "# helper functions\n",
        "# Answers: what number should I increment to having now seen a duplicate?\n",
        "next_title_num = lambda x: x[-2] + 1 if x[-2].isnumeric() else 2\n",
        "# Answers: what was the number of the previous poem with this title?\n",
        "prev_title = lambda d, k: sorted([k for k in d.keys() if k.startswith(k)])[-1]\n",
        "\n",
        "def update(d: dict, k: str, v: str) -> None:\n",
        "    '''\n",
        "    Adds key-value pair 'k' & 'v' to dictionary 'd'\n",
        "    Uses helper functions to increment key string if key already exists\n",
        "    Dictionary is changed inplace; Returns None.\n",
        "    '''\n",
        "    if d.get(k):\n",
        "        k = f'{k} ({next_title_num(prev_title(d,k))})'\n",
        "    d[k] = v"
      ]
    },
    {
      "cell_type": "code",
      "execution_count": null,
      "id": "427e6d08-a55f-4707-9622-51fe42d6eabe",
      "metadata": {
        "tags": [],
        "id": "427e6d08-a55f-4707-9622-51fe42d6eabe"
      },
      "outputs": [],
      "source": [
        "is_editor_title = lambda x: x.endswith('.') and x.isupper()\n",
        "has_editor_title = lambda x: is_editor_title(x.split('\\n')[0]) # check 1st line for editor title\n",
        "\n",
        "d = {}\n",
        "for p in poem_list:\n",
        "    # first line will always be the key\n",
        "    k = p[:p.index('\\n')]\n",
        "    if has_editor_title(p):\n",
        "        # find string that should be the value (poem minus title)\n",
        "        # YOUR CODE HERE\n",
        "        p = ...\n",
        "    # add new pair to dictionary\n",
        "    # update function handles altering the key if necessary\n",
        "    # (i.e., incrementing the numerical suffix of the title)\n",
        "    update(d, k, p)"
      ]
    },
    {
      "cell_type": "code",
      "execution_count": null,
      "id": "fc59cdc6-a668-440d-a334-28d942a034ec",
      "metadata": {
        "deletable": false,
        "editable": false,
        "id": "fc59cdc6-a668-440d-a334-28d942a034ec"
      },
      "outputs": [],
      "source": [
        "print(d['HOPE.'])"
      ]
    },
    {
      "cell_type": "code",
      "execution_count": null,
      "id": "80f204fd",
      "metadata": {
        "deletable": false,
        "editable": false,
        "id": "80f204fd"
      },
      "outputs": [],
      "source": [
        "grader.check(\"q2.7\")"
      ]
    },
    {
      "cell_type": "markdown",
      "id": "9eb587d2-be34-4c9f-868a-7defdee777ff",
      "metadata": {
        "deletable": false,
        "editable": false,
        "id": "9eb587d2-be34-4c9f-868a-7defdee777ff"
      },
      "source": [
        "<div class='exercise'><b>Q2.8 - Most frequent long words</b></div>"
      ]
    },
    {
      "cell_type": "markdown",
      "id": "fd58d726-ca1f-4966-bc59-95eaf6c92aec",
      "metadata": {
        "deletable": false,
        "editable": false,
        "id": "fd58d726-ca1f-4966-bc59-95eaf6c92aec"
      },
      "source": [
        "We can also ask statistical questions of the data such as, \"what are the most common words?\"\n",
        "\n",
        "Find the 10 most frequently used words longer than 10 characters. Ignore case and any punctuation at the end of the word when counting. Consider only the poem text and not the editor provided titles. Store the top 10 words in a list called `top_words` in order of decreasing frequency.\n",
        "\n",
        "You may find the `punc` variable below useful. It is the set of the punctuation characters occurring at the end of words in the text. You can assume that no words end with multiple punctuation characters."
      ]
    },
    {
      "cell_type": "code",
      "execution_count": null,
      "id": "06b8452a-320b-41c6-831a-38252045a762",
      "metadata": {
        "deletable": false,
        "editable": false,
        "id": "06b8452a-320b-41c6-831a-38252045a762"
      },
      "outputs": [],
      "source": [
        "# punctuation characters to remove when counting words\n",
        "punc = {w[-1] for p in d.values() for w in p.lower().split() if not w[-1].isalpha()}\n",
        "punc"
      ]
    },
    {
      "cell_type": "code",
      "execution_count": null,
      "id": "38e2bed6-0a59-4572-95f0-45e803836cf0",
      "metadata": {
        "tags": [],
        "id": "38e2bed6-0a59-4572-95f0-45e803836cf0"
      },
      "outputs": [],
      "source": [
        "\n",
        "top_words = ..."
      ]
    },
    {
      "cell_type": "code",
      "execution_count": null,
      "id": "b545a282-2e2c-452c-a9ea-6faf2596b357",
      "metadata": {
        "deletable": false,
        "editable": false,
        "id": "b545a282-2e2c-452c-a9ea-6faf2596b357"
      },
      "outputs": [],
      "source": [
        "top_words"
      ]
    },
    {
      "cell_type": "code",
      "execution_count": null,
      "id": "2edd8eb0",
      "metadata": {
        "deletable": false,
        "editable": false,
        "id": "2edd8eb0"
      },
      "outputs": [],
      "source": [
        "grader.check(\"q2.8\")"
      ]
    },
    {
      "cell_type": "markdown",
      "id": "c6fafb68-409f-450e-9218-f1c087c9928e",
      "metadata": {
        "deletable": false,
        "editable": false,
        "id": "c6fafb68-409f-450e-9218-f1c087c9928e"
      },
      "source": [
        "<div class='exercise'><b>Q2.9 - Random Poem Generator</b></div>"
      ]
    },
    {
      "cell_type": "markdown",
      "id": "cff42575-d263-41c7-bb9e-2f6ae60b960f",
      "metadata": {
        "deletable": false,
        "editable": false,
        "id": "cff42575-d263-41c7-bb9e-2f6ae60b960f"
      },
      "source": [
        "We're now ready to create our random poem generator.\n",
        "\n",
        "Complete the `PoetryCollection` class below by defining a [\\_\\_init__](https://www.geeksforgeeks.org/__init__-in-python/) method. It should take the author's full name and your poem dictionary as arguments and define the class attributes `author`, `collection`, and `size` as described in the docstring.\n",
        "\n",
        "Then instantiate a `PoetryCollection` using our Emily Dickinson data and call it `poems`."
      ]
    },
    {
      "cell_type": "code",
      "execution_count": null,
      "id": "11c51c00-d9d6-4898-bea5-78fd4e629a5e",
      "metadata": {
        "tags": [],
        "id": "11c51c00-d9d6-4898-bea5-78fd4e629a5e"
      },
      "outputs": [],
      "source": [
        "class PoetryCollection():\n",
        "    \"\"\"\n",
        "    Attributes\n",
        "    ----------\n",
        "    author : str\n",
        "        full name of author\n",
        "    collection : dict\n",
        "        dictionary of (title, poem) key-value pairs\n",
        "    size : int\n",
        "        number of poems in collection\n",
        "\n",
        "    Methods\n",
        "    -------\n",
        "    random_poem(seed: int = None) -> str\n",
        "        returns random poem; use seed for reproducibility (default seed=None)\n",
        "    \"\"\"\n",
        "    ...\n",
        "        self.author = ...\n",
        "        self.collection = ...\n",
        "        self.size = ...\n",
        "\n",
        "    def random_poem(self, seed : int = None) -> str:\n",
        "        rng = np.random.default_rng(seed)\n",
        "        return str(rng.choice(list(self.collection.values())))"
      ]
    },
    {
      "cell_type": "code",
      "execution_count": null,
      "id": "b40f0a2e-d09e-4156-ad03-590fe3b97ea6",
      "metadata": {
        "tags": [],
        "id": "b40f0a2e-d09e-4156-ad03-590fe3b97ea6"
      },
      "outputs": [],
      "source": [
        "poems = ..."
      ]
    },
    {
      "cell_type": "code",
      "execution_count": null,
      "id": "e70d464b-77e4-4515-84a1-651dc392e707",
      "metadata": {
        "deletable": false,
        "editable": false,
        "id": "e70d464b-77e4-4515-84a1-651dc392e707"
      },
      "outputs": [],
      "source": [
        "print('Author:', poems.author)"
      ]
    },
    {
      "cell_type": "code",
      "execution_count": null,
      "id": "9ff22147-c2a4-4fe9-a2b2-cc0686d27b27",
      "metadata": {
        "deletable": false,
        "editable": false,
        "id": "9ff22147-c2a4-4fe9-a2b2-cc0686d27b27"
      },
      "outputs": [],
      "source": [
        "print('Number of poems in collection:', poems.size)"
      ]
    },
    {
      "cell_type": "code",
      "execution_count": null,
      "id": "7b986d88-9181-4ba3-a6cc-0505531551b0",
      "metadata": {
        "deletable": false,
        "editable": false,
        "id": "7b986d88-9181-4ba3-a6cc-0505531551b0"
      },
      "outputs": [],
      "source": [
        "print(poems.random_poem(seed=109))"
      ]
    },
    {
      "cell_type": "code",
      "execution_count": null,
      "id": "f167fc14",
      "metadata": {
        "deletable": false,
        "editable": false,
        "id": "f167fc14"
      },
      "outputs": [],
      "source": [
        "grader.check(\"q2.9\")"
      ]
    },
    {
      "cell_type": "markdown",
      "id": "5e6327df-d667-408e-8f92-2addd7c94337",
      "metadata": {
        "id": "5e6327df-d667-408e-8f92-2addd7c94337"
      },
      "source": [
        "# Part 3 - Math and Statistics <a id=\"part3\"></a>"
      ]
    },
    {
      "cell_type": "markdown",
      "id": "73e1c60e-38b8-4b57-9bf2-f75b8761383d",
      "metadata": {
        "id": "73e1c60e-38b8-4b57-9bf2-f75b8761383d"
      },
      "source": [
        "### Linear Algebra\n",
        "\n",
        "In data science we frequently encounter problems that can be represented (or approximated) by a [system of linear equations](https://en.wikipedia.org/wiki/System_of_linear_equations)."
      ]
    },
    {
      "cell_type": "markdown",
      "id": "2ef6147b-9fab-4fc1-8af3-adc01870ff46",
      "metadata": {
        "tags": [],
        "id": "2ef6147b-9fab-4fc1-8af3-adc01870ff46"
      },
      "source": [
        "In this toy example, you've started to collect data about some books in your collection:"
      ]
    },
    {
      "cell_type": "markdown",
      "id": "0ae7ac31-e298-4cfa-8f6f-70d7915dd45e",
      "metadata": {
        "id": "0ae7ac31-e298-4cfa-8f6f-70d7915dd45e"
      },
      "source": [
        "| Title                        | New/Cover Price (\\$) | Years Since Publication | Has Underlining (Yes/No)| Used Price (\\$)|\n",
        "| :--------------------------- | :---------- | :---------------------- | :-------------- | :--------- |\n",
        "| Perceptrons (Expanded)       | 35          | 35                      | 1               | 15         |\n",
        "| Social Empiricism            | 20          | 21                      | 0               | 11         |\n",
        "| Philosophical Investigations | 42          | 13                      | 1               | 27         |"
      ]
    },
    {
      "cell_type": "markdown",
      "id": "cf11de25-6478-47c5-86d6-c23a42b2506a",
      "metadata": {
        "id": "cf11de25-6478-47c5-86d6-c23a42b2506a"
      },
      "source": [
        "`Has Underlining` is $1$ if the book is marked up with notes and $0$ otherwise.\n",
        "\n",
        "We will (very naïvely) assume that a book's used price is a [linear combination](https://en.wikipedia.org/wiki/Linear_combination) of the three recorded features which capture information about the book's original price, age, and condition.\n",
        "\n",
        "That is, there exist coefficients $\\beta_1$, $\\beta_2$, and $\\beta_3$ such that:\n",
        "$$\n",
        "\\beta_1 \\cdot \\text{new price} + \\beta_2 \\cdot \\text{years since publication} + \\beta_3 \\cdot \\text{has underlining} = \\text{used price}\n",
        "$$\n",
        "\n",
        "If you knew the coefficient values then these three features could be used to *predict* the used price of a book for which that data is unavailable, or perhaps to check if a newly observed used price is fair."
      ]
    },
    {
      "cell_type": "markdown",
      "id": "168ee19a-d830-4358-acc4-cbecbad397d2",
      "metadata": {
        "id": "168ee19a-d830-4358-acc4-cbecbad397d2"
      },
      "source": [
        "If we represent the set of unknown coeffients as a column vector\n",
        "$$\\beta =\n",
        "\\left[\n",
        "\\begin{array}{cc}\n",
        "\\beta_1 \\\\\n",
        "\\beta_2 \\\\\n",
        "\\beta_3 \\\\\n",
        "\\end{array}\n",
        "\\right]\n",
        "$$"
      ]
    },
    {
      "cell_type": "markdown",
      "id": "66d2582c-4b78-4457-89bd-e44daa7d5c25",
      "metadata": {
        "id": "66d2582c-4b78-4457-89bd-e44daa7d5c25"
      },
      "source": [
        "and represent the three features of our books as a matrix, $X$, and the used prices as a column vector, $y$\n",
        "$$\n",
        "X =\n",
        "\\left[\n",
        "\\begin{array}{ccc}\n",
        "35 & 35 & 1 \\\\\n",
        "20 & 21 & 0 \\\\\n",
        "42 & 13 & 1 \\\\\n",
        "\\end{array}\n",
        "\\right]\n",
        "%\n",
        "%\n",
        "y =\n",
        "\\left[\n",
        "\\begin{array}{cc}\n",
        "15 \\\\\n",
        "11 \\\\\n",
        "27 \\\\\n",
        "\\end{array}\n",
        "\\right]\n",
        "$$"
      ]
    },
    {
      "cell_type": "markdown",
      "id": "6ed2269d-4821-4ce5-9a9e-7db28bd2f284",
      "metadata": {
        "id": "6ed2269d-4821-4ce5-9a9e-7db28bd2f284"
      },
      "source": [
        "then we can calculate the linear combinations for all rows in $X$ with a single matrix multiplication:\n",
        "$$X\\beta = y$$"
      ]
    },
    {
      "cell_type": "markdown",
      "id": "3f8a8876-002c-4b26-b1e5-30f222211dd4",
      "metadata": {
        "id": "3f8a8876-002c-4b26-b1e5-30f222211dd4"
      },
      "source": [
        "Or, written out with the full matrices and vectors:\n",
        "$$\n",
        "\\left[\n",
        "\\begin{array}{ccc}\n",
        "35 & 35 & 1 \\\\\n",
        "20 & 21 & 0 \\\\\n",
        "42 & 13 & 1 \\\\\n",
        "\\end{array}\n",
        "\\right]\n",
        "%\n",
        "\\left[\n",
        "\\begin{array}{cc}\n",
        "\\beta_1 \\\\\n",
        "\\beta_2 \\\\\n",
        "\\beta_3 \\\\\n",
        "\\end{array}\n",
        "\\right]\n",
        "%\n",
        "=\n",
        "\\left[\n",
        "\\begin{array}{cc}\n",
        "15 \\\\\n",
        "11 \\\\\n",
        "27 \\\\\n",
        "\\end{array}\n",
        "\\right]\n",
        "$$"
      ]
    },
    {
      "cell_type": "markdown",
      "id": "97ccf517-afdd-474c-bdf0-5d0d2f1a6a13",
      "metadata": {
        "deletable": false,
        "editable": false,
        "id": "97ccf517-afdd-474c-bdf0-5d0d2f1a6a13"
      },
      "source": [
        "<div class='exercise'><b>Q3.1 - Arrays & Matrices with Numpy</b></div>"
      ]
    },
    {
      "cell_type": "markdown",
      "id": "91df90d5-7270-4613-8035-9bf9fb743734",
      "metadata": {
        "deletable": false,
        "editable": false,
        "id": "91df90d5-7270-4613-8035-9bf9fb743734"
      },
      "source": [
        "Use [Numpy's](https://numpy.org/) ndarray constructor, `np.array()` to create the $X$ matrix and $y$ column vector as shown above. It is common to pass the constructor a list or list-of-lists as an argument. Don't be afraid to [check the documentation](https://numpy.org/doc/stable/reference/generated/numpy.array.html).\n",
        ">**Hint:** Remember, $y$ is a *column* vector. You can check the dimensions of an ndarray with the `.shape` attribute. $y$'s shape should be `(3,1)`. The array's `.reshape()` method is one way to address this. When in doubt, a quick internet search will often turn up [Stack Overflow answers](https://stackoverflow.com/questions/50157369/is-there-a-way-to-create-column-vectors-in-numpy-without-having-to-create-a-list) to similar questions."
      ]
    },
    {
      "cell_type": "code",
      "execution_count": null,
      "id": "15cf3f88-940b-4c2a-97dd-2a991f83f6b8",
      "metadata": {
        "tags": [],
        "id": "15cf3f88-940b-4c2a-97dd-2a991f83f6b8"
      },
      "outputs": [],
      "source": [
        "X = ...\n",
        "y = ..."
      ]
    },
    {
      "cell_type": "code",
      "execution_count": null,
      "id": "bdee8e3f",
      "metadata": {
        "deletable": false,
        "editable": false,
        "id": "bdee8e3f"
      },
      "outputs": [],
      "source": [
        "grader.check(\"q3.1\")"
      ]
    },
    {
      "cell_type": "markdown",
      "id": "c41168eb-5282-406f-a9ea-15ed25e1247c",
      "metadata": {
        "deletable": false,
        "editable": false,
        "id": "c41168eb-5282-406f-a9ea-15ed25e1247c"
      },
      "source": [
        "<div class='exercise'><b>Q3.2 - Matrix inverse</b></div>"
      ]
    },
    {
      "cell_type": "markdown",
      "id": "de058f80-b33d-437d-910b-00cf92ec1b5c",
      "metadata": {
        "deletable": false,
        "editable": false,
        "id": "de058f80-b33d-437d-910b-00cf92ec1b5c"
      },
      "source": [
        "We'd like to solve for $\\beta$ algebraically, and we are in luck! Because our $X$ matrix is square and full [rank](https://en.wikipedia.org/wiki/Rank_(linear_algebra)) we can take its [inverse](https://en.wikipedia.org/wiki/Invertible_matrix), denoted $X^{-1}$.\n",
        "\n",
        "A matrix multiplied by its inverse is the [identity matrix](https://en.wikipedia.org/wiki/Identity_matrix) of the same shape: $A_{n,n}^{-1}A_{n,n} = \\mathit{I}_{n,n}$\n",
        "\n",
        "And of course, multipling a vector or matrix by the identity matrix leaves it unchanged (provided the shapes allow for a valid matrix multiplication): $\\mathit{I}A = A$"
      ]
    },
    {
      "cell_type": "markdown",
      "id": "397efdd4-6bca-45b6-9b3f-1ff04b441ca6",
      "metadata": {
        "deletable": false,
        "editable": false,
        "id": "397efdd4-6bca-45b6-9b3f-1ff04b441ca6"
      },
      "source": [
        "This is all we need to solve for $\\beta$. Just multiply both sides of the equation by $X^{-1}$ on the left and simplify:"
      ]
    },
    {
      "cell_type": "markdown",
      "id": "93b38af6-a4f0-4dd6-bae2-6f61c0479b2f",
      "metadata": {
        "deletable": false,
        "editable": false,
        "id": "93b38af6-a4f0-4dd6-bae2-6f61c0479b2f"
      },
      "source": [
        "$$\n",
        "\\begin{split}\n",
        "X\\beta &= y\\\\\n",
        "X^{-1}X\\beta &= X^{-1}y\\\\\n",
        "\\mathit{I}\\beta &= X^{-1}y\\\\\n",
        "\\beta &= X^{-1}y\n",
        "\\end{split}\n",
        "$$\n"
      ]
    },
    {
      "cell_type": "markdown",
      "id": "8335da0a-62fd-49f9-a6da-3a87a80b5780",
      "metadata": {
        "deletable": false,
        "editable": false,
        "id": "8335da0a-62fd-49f9-a6da-3a87a80b5780"
      },
      "source": [
        "With the information presented above, use Numpy to find $\\beta$ and store it in `beta`.\n",
        ">**Hints:** Numpy has a `linalg` sub-module containing many useful functions related to linear algebra. You'll need (1) a method to take the inverse of a matrix and (2) a means of calculating a matrix product. The [documention](https://numpy.org/doc/stable/reference/routines.linalg.html) is very thorough."
      ]
    },
    {
      "cell_type": "code",
      "execution_count": null,
      "id": "e53d1f7e-8c7d-4eef-8105-4384a3f54a7b",
      "metadata": {
        "tags": [],
        "id": "e53d1f7e-8c7d-4eef-8105-4384a3f54a7b"
      },
      "outputs": [],
      "source": [
        "beta = ..."
      ]
    },
    {
      "cell_type": "code",
      "execution_count": null,
      "id": "f4a2d053-7098-4156-96c8-e77a42a4665f",
      "metadata": {
        "deletable": false,
        "editable": false,
        "id": "f4a2d053-7098-4156-96c8-e77a42a4665f"
      },
      "outputs": [],
      "source": [
        "# display resulting betas\n",
        "beta"
      ]
    },
    {
      "cell_type": "code",
      "execution_count": null,
      "id": "5467c730",
      "metadata": {
        "deletable": false,
        "editable": false,
        "id": "5467c730"
      },
      "outputs": [],
      "source": [
        "grader.check(\"q3.2\")"
      ]
    },
    {
      "cell_type": "markdown",
      "id": "74ec31e4-9cb5-4d7d-81d4-a3f61e528a39",
      "metadata": {
        "deletable": false,
        "editable": false,
        "id": "74ec31e4-9cb5-4d7d-81d4-a3f61e528a39"
      },
      "source": [
        "<div class='exercise'><b>Q3.3 - Making a prediction</b></div>"
      ]
    },
    {
      "cell_type": "markdown",
      "id": "ef88f139-1801-4d56-83a9-296dcb709f05",
      "metadata": {
        "deletable": false,
        "editable": false,
        "id": "ef88f139-1801-4d56-83a9-296dcb709f05"
      },
      "source": [
        "Now let's use your $\\beta$ vector to predict the used price of a book not in our original data."
      ]
    },
    {
      "cell_type": "markdown",
      "id": "df318e4f-186c-4512-8532-1a9386a66551",
      "metadata": {
        "deletable": false,
        "editable": false,
        "id": "df318e4f-186c-4512-8532-1a9386a66551"
      },
      "source": [
        "| Title                        | New/Cover Price | Years Since Publication | Has Underlining | Used Price |\n",
        "| :--------------------------- | :---------- | :---------------------- | :-------------- | :--------- |\n",
        "| Linear Algebra Done Right    | 44          | 7                      | 0               | ?         |"
      ]
    },
    {
      "cell_type": "markdown",
      "id": "f6eeec30-8aba-449e-9c64-01ddef8c8bc0",
      "metadata": {
        "deletable": false,
        "editable": false,
        "id": "f6eeec30-8aba-449e-9c64-01ddef8c8bc0"
      },
      "source": [
        "Create the ndarray `new_box` to represent the three feature values of the book.\\\n",
        "Then multiple it by `beta` and store the results in `pred_price`."
      ]
    },
    {
      "cell_type": "code",
      "execution_count": null,
      "id": "540ce817-1908-473e-ae7e-e921492394ca",
      "metadata": {
        "tags": [],
        "id": "540ce817-1908-473e-ae7e-e921492394ca"
      },
      "outputs": [],
      "source": [
        "new_book = ...\n",
        "pred_price = ..."
      ]
    },
    {
      "cell_type": "code",
      "execution_count": null,
      "id": "8ed6fac2-6c54-4178-93bd-fddb340d9f7a",
      "metadata": {
        "deletable": false,
        "editable": false,
        "id": "8ed6fac2-6c54-4178-93bd-fddb340d9f7a"
      },
      "outputs": [],
      "source": [
        "print(f'Predicted Price: ${pred_price[0]:.2f}')"
      ]
    },
    {
      "cell_type": "code",
      "execution_count": null,
      "id": "d29985c0",
      "metadata": {
        "deletable": false,
        "editable": false,
        "id": "d29985c0"
      },
      "outputs": [],
      "source": [
        "grader.check(\"q3.3\")"
      ]
    },
    {
      "cell_type": "markdown",
      "id": "9ca983d9-d3b6-4f37-81e7-9e7e26fbf96b",
      "metadata": {
        "id": "9ca983d9-d3b6-4f37-81e7-9e7e26fbf96b"
      },
      "source": [
        "We will almost never be so lucky as to be working with a square data matrix in a problem like this. And our assumption that used prices *are indeed* linear combinations of the feature values, with no variation, is far too strong. In the course we will see ways of relaxing both these assumptions."
      ]
    },
    {
      "cell_type": "markdown",
      "id": "bb1e2975-e94a-401a-84aa-cd100ba7228c",
      "metadata": {
        "id": "bb1e2975-e94a-401a-84aa-cd100ba7228c"
      },
      "source": [
        "### Multivariate Calculus"
      ]
    },
    {
      "cell_type": "markdown",
      "id": "8272b1a3-4d19-4f4f-8206-3fa03fd7e436",
      "metadata": {
        "deletable": false,
        "editable": false,
        "id": "8272b1a3-4d19-4f4f-8206-3fa03fd7e436"
      },
      "source": [
        "<!-- BEGIN QUESTION -->\n",
        "\n",
        "<div class='exercise'><b>Q3.4 - Partial Derivatives for Optimization</b></div>"
      ]
    },
    {
      "cell_type": "markdown",
      "id": "e21360ef-18b0-4d30-b436-826ad0ebc2d2",
      "metadata": {
        "deletable": false,
        "editable": false,
        "id": "e21360ef-18b0-4d30-b436-826ad0ebc2d2"
      },
      "source": [
        "Calculus is a powerful tool for optimization. For example, imagine we have a \"[loss](https://en.wikipedia.org/wiki/Loss_function)\" or \"cost\" function, $f(x,y)$, where $x$ and $y$ are parameters we can control. The goal is to find the values of $x$ and $y$ that minimize $f$.\n",
        "$$\n",
        "\\arg \\min_{x,y} f(x,y)\n",
        "$$\n",
        "We know that a function's derivative is zero at extrema (provided it is differentiable there). Taking the partial derivatives of $f$ with respect to each of the parameters, setting them equal to zero, and solving for the respective parameter values can then provide us with potential minima. We can confirm that a set of parameter values correspond to a minima if we can also show that the 2nd derivatives evaluated at those values are all $> 0$ (again, provided the original function is twice differentiable there)."
      ]
    },
    {
      "cell_type": "markdown",
      "id": "d98355dc-f91d-41d2-b3ce-1da407ecfabb",
      "metadata": {
        "deletable": false,
        "editable": false,
        "id": "d98355dc-f91d-41d2-b3ce-1da407ecfabb"
      },
      "source": [
        "Your goal is to use this strategy to find the $x$ and $y$ that minimize the loss function:\n",
        "$$\n",
        "f(x,y) = xy + (y+1)^2 + 2x^2 + 4\n",
        "$$\n",
        "\n",
        "You can also do this using the gradient operator, $\\nabla\\cdot$\n",
        "\n",
        "One of the main benifits of working with jupyter notebooks is the ability to display nicely formatted mathematical notation. Use $\\LaTeX$ in a markdown cell(s) below to show your work. Then store the $x$ and $y$ values you find that minimize $f$ in the variables `x_min` and `y_min` respectively.\n",
        "\n",
        "You can find an intro tutorial [here](http://chebe163.caltech.edu/2018w/handouts/intro_to_latex.html) if your $\\LaTeX$ is a bit rusty."
      ]
    },
    {
      "cell_type": "markdown",
      "id": "cceb9ced",
      "metadata": {
        "id": "cceb9ced"
      },
      "source": [
        "_Type your answer here, replacing this text._"
      ]
    },
    {
      "cell_type": "code",
      "execution_count": null,
      "id": "b0699637-f1c7-439f-b9f3-54ff155c26d0",
      "metadata": {
        "tags": [],
        "id": "b0699637-f1c7-439f-b9f3-54ff155c26d0"
      },
      "outputs": [],
      "source": [
        "x_min = ...\n",
        "y_min = ..."
      ]
    },
    {
      "cell_type": "code",
      "execution_count": null,
      "id": "b37adf29",
      "metadata": {
        "deletable": false,
        "editable": false,
        "id": "b37adf29"
      },
      "outputs": [],
      "source": [
        "grader.check(\"q3.4\")"
      ]
    },
    {
      "cell_type": "markdown",
      "id": "40e80edf-e4ea-49a4-b4fb-8443087c5c69",
      "metadata": {
        "deletable": false,
        "editable": false,
        "id": "40e80edf-e4ea-49a4-b4fb-8443087c5c69"
      },
      "source": [
        "<!-- END QUESTION -->\n",
        "\n",
        "### Probability \\& Statistics"
      ]
    },
    {
      "cell_type": "markdown",
      "id": "69e2b763-8e8f-4c3d-8709-667b182cfe20",
      "metadata": {
        "id": "69e2b763-8e8f-4c3d-8709-667b182cfe20"
      },
      "source": [
        "As we move through the course we will look at a probabalistic method for modeling data. There, we assume that the value of interest, $y$, for each observation, $x$, is a [random variables](https://en.wikipedia.org/wiki/Random_variable) described by a specific family of [probability distributions](https://en.wikipedia.org/wiki/Probability_distribution) (e.g., Gaussian, binomal, etc.), and that the parameter(s) of these distributions, such as the mean, is related to the values in $x$. We then try and learn what this relationship is.\n",
        "\n",
        "But before we get there we should remind ourselves about how to work with probabilities."
      ]
    },
    {
      "cell_type": "markdown",
      "id": "171fd3aa-117d-4d53-bd51-e20e0cd93e85",
      "metadata": {
        "deletable": false,
        "editable": false,
        "id": "171fd3aa-117d-4d53-bd51-e20e0cd93e85"
      },
      "source": [
        "<div class='exercise'><b>Q3.5 - Joint probabilities</b></div>"
      ]
    },
    {
      "cell_type": "markdown",
      "id": "1d14bc19-c6d3-4ceb-b92d-13ebb0ab7dbb",
      "metadata": {
        "deletable": false,
        "editable": false,
        "id": "1d14bc19-c6d3-4ceb-b92d-13ebb0ab7dbb"
      },
      "source": [
        "First, let's think about the joint probability of several [i.i.d.](https://en.wikipedia.org/wiki/Independent_and_identically_distributed_random_variables) random variables.\n",
        "\n",
        "What is the probability of rolling three 3's in a row with a fair 6-sided die?\\\n",
        "Save the result in `dice_prob`."
      ]
    },
    {
      "cell_type": "code",
      "execution_count": null,
      "id": "2b39c788-d476-4238-8961-8699879e2132",
      "metadata": {
        "tags": [],
        "id": "2b39c788-d476-4238-8961-8699879e2132"
      },
      "outputs": [],
      "source": [
        "dice_prob = ...\n",
        "dice_prob"
      ]
    },
    {
      "cell_type": "code",
      "execution_count": null,
      "id": "10974068",
      "metadata": {
        "deletable": false,
        "editable": false,
        "id": "10974068"
      },
      "outputs": [],
      "source": [
        "grader.check(\"q3.5\")"
      ]
    },
    {
      "cell_type": "markdown",
      "id": "7f67cefa-0f49-4c99-a3b5-739136345388",
      "metadata": {
        "deletable": false,
        "editable": false,
        "id": "7f67cefa-0f49-4c99-a3b5-739136345388"
      },
      "source": [
        "<div class='exercise'><b>Q3.6 - A 'branching' example</b></div>"
      ]
    },
    {
      "cell_type": "markdown",
      "id": "6931512d-46f4-4596-9d2f-fb4dcc0994f0",
      "metadata": {
        "deletable": false,
        "editable": false,
        "id": "6931512d-46f4-4596-9d2f-fb4dcc0994f0"
      },
      "source": [
        "Here's a slightly more involved scenario:\\\n",
        "In your pocket you have two coins: a **fair coin** and a **biased coin** that is twice as likely to land heads than tails.\n",
        "\n",
        "You take a coin from your pocket at random and flip it 4 times. You see:\\\n",
        "$$H,T,H,T$$\n",
        "\n",
        "Given that you were equally likely to choose either coin, what was the probability of this series of outcomes?\\\n",
        "Save your result in `coin_prob`."
      ]
    },
    {
      "cell_type": "code",
      "execution_count": null,
      "id": "617ddf9a-b660-480b-a05a-b2c01887ddd3",
      "metadata": {
        "tags": [],
        "id": "617ddf9a-b660-480b-a05a-b2c01887ddd3"
      },
      "outputs": [],
      "source": [
        "coin_prob = ...\n",
        "coin_prob"
      ]
    },
    {
      "cell_type": "code",
      "execution_count": null,
      "id": "50117dd5",
      "metadata": {
        "deletable": false,
        "editable": false,
        "id": "50117dd5"
      },
      "outputs": [],
      "source": [
        "grader.check(\"q3.6\")"
      ]
    },
    {
      "cell_type": "markdown",
      "id": "1a415393-ba09-4762-8b38-7fbb89c06931",
      "metadata": {
        "deletable": false,
        "editable": false,
        "id": "1a415393-ba09-4762-8b38-7fbb89c06931"
      },
      "source": [
        "<!-- BEGIN QUESTION -->\n",
        "\n",
        "<div class='exercise'><b>Q3.7 - Conditional Probability</b></div>"
      ]
    },
    {
      "cell_type": "markdown",
      "id": "bcb88199-852b-4923-9d24-eb8895e444f2",
      "metadata": {
        "deletable": false,
        "editable": false,
        "id": "bcb88199-852b-4923-9d24-eb8895e444f2"
      },
      "source": [
        "What is the probability of observing $H, H, H$ *conditional* on having pull the biased coin from your pocket? Recall that this coin is twice as likely to land heads than tails.\n",
        "\n",
        "That is, calculate $P(H,H,H|B)$ where $B$ is the event of drawing the biased coin from your pocket.\n",
        "\n",
        "This time, rather than calculating the value programatically, show your work with $\\LaTeX$ in a markdown cell below."
      ]
    },
    {
      "cell_type": "markdown",
      "id": "d707c42d",
      "metadata": {
        "id": "d707c42d"
      },
      "source": [
        "_Type your answer here, replacing this text._"
      ]
    },
    {
      "cell_type": "markdown",
      "id": "33664fb9-3307-4657-a296-1894479b2356",
      "metadata": {
        "deletable": false,
        "editable": false,
        "id": "33664fb9-3307-4657-a296-1894479b2356"
      },
      "source": [
        "<!-- END QUESTION -->\n",
        "\n",
        "<div class='exercise'><b>Q3.8 - Sampling from a PDF with Numpy</b></div>"
      ]
    },
    {
      "cell_type": "markdown",
      "id": "5d511964-7974-47e5-9d82-28ce21f2c902",
      "metadata": {
        "deletable": false,
        "editable": false,
        "id": "5d511964-7974-47e5-9d82-28ce21f2c902"
      },
      "source": [
        "Numpy also gives us the ability to sample from probability distributions through its [Random Generator](https://numpy.org/doc/stable/reference/random/generator.html) class, which can be created with the `np.random.default_rng()` constructor."
      ]
    },
    {
      "cell_type": "code",
      "execution_count": null,
      "id": "84425aca-c39d-4751-bdc1-0ec5e687205f",
      "metadata": {
        "deletable": false,
        "editable": false,
        "id": "84425aca-c39d-4751-bdc1-0ec5e687205f"
      },
      "outputs": [],
      "source": [
        "# instantiate random generator /w seed of 109\n",
        "rng = np.random.default_rng(seed=109)"
      ]
    },
    {
      "cell_type": "markdown",
      "id": "175c8b89-c733-4615-a52e-0d1e07f71c49",
      "metadata": {
        "deletable": false,
        "editable": false,
        "id": "175c8b89-c733-4615-a52e-0d1e07f71c49"
      },
      "source": [
        "Let  $X$ be a normally distributed random variable with a mean of 4 and a standard deviation  of 2.\\\n",
        "That is:\n",
        "$$X \\sim \\mathcal{N}(4,2)$$\n",
        "\n",
        "Sample `N` realizations of $X$ using `rng.normal()` and store them in the variable `sample`.\\\n",
        "Next, calculate the mean and standard deviation of the sample and store the results in the variables `mean` and `std`.\n",
        "\n",
        "Try several values for `N`. Start with just 10 and increase the sample size until the sample mean and standard deviation are within 0.1 of those of the data generating distribution.\n",
        "\n",
        ">**Hint:** check the documentation on the generators [normal()](https://numpy.org/doc/stable/reference/random/generated/numpy.random.Generator.normal.html) method."
      ]
    },
    {
      "cell_type": "code",
      "execution_count": null,
      "id": "cb8a0caf-979c-4b86-8c1c-9ada73ae46e1",
      "metadata": {
        "tags": [],
        "id": "cb8a0caf-979c-4b86-8c1c-9ada73ae46e1"
      },
      "outputs": [],
      "source": [
        "# number of samples\n",
        "N = ...\n",
        "\n",
        "# N samples from normal distribution /w mean=4 & std=2\n",
        "sample = ..."
      ]
    },
    {
      "cell_type": "code",
      "execution_count": null,
      "id": "751595f3-79f7-4f18-96f5-81cfa239a0ad",
      "metadata": {
        "tags": [],
        "id": "751595f3-79f7-4f18-96f5-81cfa239a0ad"
      },
      "outputs": [],
      "source": [
        "mean = ...\n",
        "std = ...\n",
        "print(f\"sample mean: {mean:.2f}\")\n",
        "print(f\"sample standard deviation: {std:.2f}\")"
      ]
    },
    {
      "cell_type": "markdown",
      "id": "a898f5d0-c087-4405-aaeb-85b7d063dd89",
      "metadata": {
        "deletable": false,
        "editable": false,
        "id": "a898f5d0-c087-4405-aaeb-85b7d063dd89"
      },
      "source": [
        "The histogram below visualizes the empirical distribution of your sample as well as the sample mean and standard deviation.\n",
        "\n",
        "This uses the [Matplotlib](https://matplotlib.org/) library which will be one of our main visualization tools in this course."
      ]
    },
    {
      "cell_type": "code",
      "execution_count": null,
      "id": "55c5b601-371e-4dc1-9957-4633b47770ed",
      "metadata": {
        "deletable": false,
        "editable": false,
        "id": "55c5b601-371e-4dc1-9957-4633b47770ed"
      },
      "outputs": [],
      "source": [
        "# provided plotting code\n",
        "plt.hist(sample)\n",
        "plt.axvline(mean, c='r', label=f'mean = {mean:.2f}')\n",
        "plt.axvline(mean+std, c='k', ls='--', label=f'stdev = {std:.2f}')\n",
        "plt.axvline(mean-std, c='k', ls='--')\n",
        "plt.title(f'{N} Samples of $X \\sim \\mathcal{{N}}(4, 2)$')\n",
        "plt.ylabel('count')\n",
        "plt.xlabel(\"$X$ value\")\n",
        "plt.legend();"
      ]
    },
    {
      "cell_type": "code",
      "execution_count": null,
      "id": "e1a494ca",
      "metadata": {
        "deletable": false,
        "editable": false,
        "id": "e1a494ca"
      },
      "outputs": [],
      "source": [
        "grader.check(\"q3.8\")"
      ]
    },
    {
      "cell_type": "markdown",
      "id": "42772166-a13b-447f-9466-7c1465ce0549",
      "metadata": {
        "id": "42772166-a13b-447f-9466-7c1465ce0549"
      },
      "source": [
        "**This concludes HW0. Thank you!**"
      ]
    }
  ],
  "metadata": {
    "kernelspec": {
      "display_name": "Python 3 (ipykernel)",
      "language": "python",
      "name": "python3"
    },
    "language_info": {
      "codemirror_mode": {
        "name": "ipython",
        "version": 3
      },
      "file_extension": ".py",
      "mimetype": "text/x-python",
      "name": "python",
      "nbconvert_exporter": "python",
      "pygments_lexer": "ipython3",
      "version": "3.11.7"
    },
    "otter": {
      "OK_FORMAT": true,
      "tests": {
        "q1": {
          "name": "q1",
          "points": 1,
          "suites": [
            {
              "cases": [
                {
                  "code": ">>> assert np, 'numpy not imported'\n>>> assert stats, \"scipy's stats submodule not imported\"\n>>> assert pd, 'pandas not imported as pd'\n>>> assert plt, \"matplotlib's pyplot submodule not imported as plt\"\n",
                  "hidden": false,
                  "locked": false
                }
              ],
              "scored": true,
              "setup": "",
              "teardown": "",
              "type": "doctest"
            }
          ]
        },
        "q2.1": {
          "name": "q2.1",
          "points": 1,
          "suites": [
            {
              "cases": [
                {
                  "code": ">>> assert type(text) == str, '`text` should be a string'\n",
                  "hidden": false,
                  "locked": false
                }
              ],
              "scored": true,
              "setup": "",
              "teardown": "",
              "type": "doctest"
            }
          ]
        },
        "q2.2": {
          "name": "q2.2",
          "points": 1,
          "suites": [
            {
              "cases": [
                {
                  "code": ">>> def get_pref_range(s, first_idx=0):\n...     start_idx = s[first_idx:].index('POEMS\\n') + first_idx\n...     end_idx = s[start_idx:].index('I. ') + start_idx\n...     return (start_idx, end_idx)\n>>> pref1_start, pref1_end = get_pref_range(text)\n>>> pref2_start, pref2_end = get_pref_range(text, first_idx=pref1_end)\n>>> pref3_start, pref3_end = get_pref_range(text, first_idx=pref2_end)\n>>> end_idx = text.index('End of Project Gutenberg')\n>>> series1_S = text[pref1_end:pref2_start].strip()\n>>> series2_S = text[pref2_end:pref3_start].strip()\n>>> series3_S = text[pref3_end:end_idx].strip()\n>>> assert len(series1) == len(series1_S), f'series1 was expected to have length {len(series1_S)}'\n>>> assert len(series2) == len(series2_S), f'series2 was expected to have length {len(series2_S)}'\n>>> assert len(series3) == len(series3_S), f'series3 was expected to have length {len(series3_S)}'\n",
                  "hidden": false,
                  "locked": false
                }
              ],
              "scored": true,
              "setup": "",
              "teardown": "",
              "type": "doctest"
            }
          ]
        },
        "q2.3": {
          "name": "q2.3",
          "points": 1,
          "suites": [
            {
              "cases": [
                {
                  "code": ">>> poems_text_clean_sol = poems_text.split('[')[0][:-1] + poems_text.split(']')[1][1:]\n>>> assert poems_text_clean == poems_text_clean_sol, 'string does not match solution. Are you removing the extra newline after the removed annotation?'\n",
                  "hidden": false,
                  "locked": false
                }
              ],
              "scored": true,
              "setup": "",
              "teardown": "",
              "type": "doctest"
            }
          ]
        },
        "q2.4": {
          "name": "q2.4",
          "points": 1,
          "suites": [
            {
              "cases": [
                {
                  "code": ">>> assert startswith_rn('III. NATURE.')\n>>> assert not startswith_rn(\"I'm nobody! Who are you?\")\n",
                  "hidden": false,
                  "locked": false
                }
              ],
              "scored": true,
              "setup": "",
              "teardown": "",
              "type": "doctest"
            }
          ]
        },
        "q2.5": {
          "name": "q2.5",
          "points": 1,
          "suites": [
            {
              "cases": [
                {
                  "code": ">>> assert type(poems_text_nonum) == str, 'poems_text_nonum should be a string'\n>>> assert poems_text_nonum.startswith('SUCCESS.'), 'expecting text to start with \"SUCCESS.\"'\n",
                  "hidden": false,
                  "locked": false
                }
              ],
              "scored": true,
              "setup": "",
              "teardown": "",
              "type": "doctest"
            }
          ]
        },
        "q2.6": {
          "name": "q2.6",
          "points": 1,
          "suites": [
            {
              "cases": [
                {
                  "code": ">>> assert type(poem_list) == list\n>>> assert poem_list[0].startswith('SUCCESS.'), 'First poem should be SUCCESS. Did you remember to strip whitespace from the ends of poems?'\n>>> assert poem_list[-1].startswith('ETERNITY.'), 'Last poem should be ETERNITY. Did you remember to strip whitespace from the ends of poems?'\n",
                  "hidden": false,
                  "locked": false
                }
              ],
              "scored": true,
              "setup": "",
              "teardown": "",
              "type": "doctest"
            }
          ]
        },
        "q2.7": {
          "name": "q2.7",
          "points": 1,
          "suites": [
            {
              "cases": [
                {
                  "code": ">>> assert type(d) == dict, 'd should be a dictionary'\n>>> assert np.isclose(len(d), 445, atol=5), 'There should be roughly 445 poems in the dictionary'\n",
                  "hidden": false,
                  "locked": false
                }
              ],
              "scored": true,
              "setup": "",
              "teardown": "",
              "type": "doctest"
            }
          ]
        },
        "q2.8": {
          "name": "q2.8",
          "points": 1,
          "suites": [
            {
              "cases": [
                {
                  "code": ">>> assert type(top_words) == list\n>>> assert len(top_words) == 10\n>>> assert type(top_words[0]) == str\n",
                  "hidden": false,
                  "locked": false
                }
              ],
              "scored": true,
              "setup": "",
              "teardown": "",
              "type": "doctest"
            }
          ]
        },
        "q2.9": {
          "name": "q2.9",
          "points": 1,
          "suites": [
            {
              "cases": [
                {
                  "code": ">>> assert type(poems) == PoetryCollection, 'poems should be of type PoetryCollection'\n>>> assert poems.author == 'Emily Dickinson', 'The author should be \"Emily Dickinson\"'\n>>> assert type(poems.collection) == dict, 'The collection attribute should be a dictionary'\n>>> assert type(poems.size) == int, 'The size attribute should be an int'\n>>> assert type((example_poem := poems.random_poem())) == str, 'random_poem() should return a str'\n>>> assert example_poem != '', 'Your random_poem() returns an empty string'\n",
                  "hidden": false,
                  "locked": false
                }
              ],
              "scored": true,
              "setup": "",
              "teardown": "",
              "type": "doctest"
            }
          ]
        },
        "q3.1": {
          "name": "q3.1",
          "points": 1,
          "suites": [
            {
              "cases": [
                {
                  "code": ">>> assert type(X) == np.ndarray, 'X should be of type np.ndarray'\n>>> assert type(y) == np.ndarray, 'y should be of type np.ndarray'\n>>> assert X.shape == (3, 3), 'X should have shape (3,3)'\n>>> assert y.shape == (3, 1), 'y should have shape (3,1)'\n",
                  "hidden": false,
                  "locked": false
                }
              ],
              "scored": true,
              "setup": "",
              "teardown": "",
              "type": "doctest"
            }
          ]
        },
        "q3.2": {
          "name": "q3.2",
          "points": 1,
          "suites": [
            {
              "cases": [
                {
                  "code": ">>> assert type(beta) == np.ndarray\n>>> assert beta.shape == (3, 1)\n",
                  "hidden": false,
                  "locked": false
                }
              ],
              "scored": true,
              "setup": "",
              "teardown": "",
              "type": "doctest"
            }
          ]
        },
        "q3.3": {
          "name": "q3.3",
          "points": 1,
          "suites": [
            {
              "cases": [
                {
                  "code": ">>> assert type(new_book) == np.ndarray, 'new_book should be a numpy ndarray'\n",
                  "hidden": false,
                  "locked": false
                }
              ],
              "scored": true,
              "setup": "",
              "teardown": "",
              "type": "doctest"
            }
          ]
        },
        "q3.4": {
          "name": "q3.4",
          "points": null,
          "suites": [
            {
              "cases": [
                {
                  "code": ">>> assert np.isclose(x_min, 2 / 7), 'the x-coordinate of your minimum point is incorrect'\n>>> assert np.isclose(y_min, -8 / 7), 'the y-coordinate of your minimum point is incorrect'\n",
                  "hidden": false,
                  "locked": false
                }
              ],
              "scored": true,
              "setup": "",
              "teardown": "",
              "type": "doctest"
            }
          ]
        },
        "q3.5": {
          "name": "q3.5",
          "points": 1,
          "suites": [
            {
              "cases": [
                {
                  "code": ">>> assert dice_prob >= 0 and dice_prob <= 1, 'A probability should be in the range [0, 1]'\n",
                  "hidden": false,
                  "locked": false
                }
              ],
              "scored": true,
              "setup": "",
              "teardown": "",
              "type": "doctest"
            }
          ]
        },
        "q3.6": {
          "name": "q3.6",
          "points": 1,
          "suites": [
            {
              "cases": [
                {
                  "code": ">>> assert coin_prob >= 0 and coin_prob <= 1, 'A probability should be in the range [0, 1]'\n",
                  "hidden": false,
                  "locked": false
                }
              ],
              "scored": true,
              "setup": "",
              "teardown": "",
              "type": "doctest"
            }
          ]
        },
        "q3.8": {
          "name": "q3.8",
          "points": 1,
          "suites": [
            {
              "cases": [
                {
                  "code": ">>> assert np.abs(4 - mean) < 0.1, 'Your sample mean should be closer to 4. Try taking a larger sample.'\n>>> assert np.abs(2 - std) < 0.1, 'Your sample mean should be closer to 4. Try taking a larger sample.'\n",
                  "hidden": false,
                  "locked": false
                }
              ],
              "scored": true,
              "setup": "",
              "teardown": "",
              "type": "doctest"
            }
          ]
        }
      }
    },
    "colab": {
      "provenance": [],
      "include_colab_link": true
    }
  },
  "nbformat": 4,
  "nbformat_minor": 5
}